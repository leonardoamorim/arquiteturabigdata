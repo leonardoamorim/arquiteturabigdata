{
  "nbformat": 4,
  "nbformat_minor": 0,
  "metadata": {
    "kernelspec": {
      "display_name": "Python 3",
      "language": "python",
      "name": "python3"
    },
    "language_info": {
      "codemirror_mode": {
        "name": "ipython",
        "version": 3
      },
      "file_extension": ".py",
      "mimetype": "text/x-python",
      "name": "python",
      "nbconvert_exporter": "python",
      "pygments_lexer": "ipython3",
      "version": "3.7.3"
    },
    "colab": {
      "name": "Solucao.ipynb",
      "provenance": []
    }
  },
  "cells": [
    {
      "cell_type": "code",
      "metadata": {
        "id": "P8ezD2sQ_6dj",
        "colab_type": "code",
        "outputId": "d714d307-facf-4791-8d79-de9309080917",
        "colab": {
          "base_uri": "https://localhost:8080/",
          "height": 86
        }
      },
      "source": [
        "!apt-get install openjdk-8-jdk-headless -qq > /dev/null\n",
        "import os\n",
        "os.environ[\"JAVA_HOME\"] = \"/usr/lib/jvm/java-8-openjdk-amd64\"\n",
        "!update-alternatives --set java /usr/lib/jvm/java-8-openjdk-amd64/jre/bin/java\n",
        "!java -version"
      ],
      "execution_count": 1,
      "outputs": [
        {
          "output_type": "stream",
          "text": [
            "update-alternatives: using /usr/lib/jvm/java-8-openjdk-amd64/jre/bin/java to provide /usr/bin/java (java) in manual mode\n",
            "openjdk version \"1.8.0_242\"\n",
            "OpenJDK Runtime Environment (build 1.8.0_242-8u242-b08-0ubuntu3~18.04-b08)\n",
            "OpenJDK 64-Bit Server VM (build 25.242-b08, mixed mode)\n"
          ],
          "name": "stdout"
        }
      ]
    },
    {
      "cell_type": "code",
      "metadata": {
        "id": "CXKTTk2TAM0j",
        "colab_type": "code",
        "outputId": "8219fd2c-6566-457d-a7a5-b1f41e91b461",
        "colab": {
          "base_uri": "https://localhost:8080/",
          "height": 263
        }
      },
      "source": [
        "\n",
        "!pip install pyspark"
      ],
      "execution_count": 2,
      "outputs": [
        {
          "output_type": "stream",
          "text": [
            "Collecting pyspark\n",
            "\u001b[?25l  Downloading https://files.pythonhosted.org/packages/9a/5a/271c416c1c2185b6cb0151b29a91fff6fcaed80173c8584ff6d20e46b465/pyspark-2.4.5.tar.gz (217.8MB)\n",
            "\u001b[K     |████████████████████████████████| 217.8MB 61kB/s \n",
            "\u001b[?25hCollecting py4j==0.10.7\n",
            "\u001b[?25l  Downloading https://files.pythonhosted.org/packages/e3/53/c737818eb9a7dc32a7cd4f1396e787bd94200c3997c72c1dbe028587bd76/py4j-0.10.7-py2.py3-none-any.whl (197kB)\n",
            "\u001b[K     |████████████████████████████████| 204kB 47.0MB/s \n",
            "\u001b[?25hBuilding wheels for collected packages: pyspark\n",
            "  Building wheel for pyspark (setup.py) ... \u001b[?25l\u001b[?25hdone\n",
            "  Created wheel for pyspark: filename=pyspark-2.4.5-py2.py3-none-any.whl size=218257927 sha256=faaf446c0201072fede5fa767f3eb748e8e9f6ea6bb66f06152c46bb23068f16\n",
            "  Stored in directory: /root/.cache/pip/wheels/bf/db/04/61d66a5939364e756eb1c1be4ec5bdce6e04047fc7929a3c3c\n",
            "Successfully built pyspark\n",
            "Installing collected packages: py4j, pyspark\n",
            "Successfully installed py4j-0.10.7 pyspark-2.4.5\n"
          ],
          "name": "stdout"
        }
      ]
    },
    {
      "cell_type": "code",
      "metadata": {
        "id": "9oN8jVwb_9Ex",
        "colab_type": "code",
        "outputId": "a9fda94b-07c5-44a9-e396-bfd7dfe69a63",
        "colab": {
          "base_uri": "https://localhost:8080/",
          "height": 121
        }
      },
      "source": [
        "!git clone https://github.com/leonardoamorim/aulapython.git"
      ],
      "execution_count": 3,
      "outputs": [
        {
          "output_type": "stream",
          "text": [
            "Cloning into 'aulapython'...\n",
            "remote: Enumerating objects: 25, done.\u001b[K\n",
            "remote: Counting objects: 100% (25/25), done.\u001b[K\n",
            "remote: Compressing objects: 100% (25/25), done.\u001b[K\n",
            "remote: Total 25 (delta 5), reused 0 (delta 0), pack-reused 0\u001b[K\n",
            "Unpacking objects: 100% (25/25), done.\n"
          ],
          "name": "stdout"
        }
      ]
    },
    {
      "cell_type": "code",
      "metadata": {
        "id": "c70A4zb9At6Q",
        "colab_type": "code",
        "colab": {}
      },
      "source": [
        "! gunzip aulapython/NASA_access_log_Jul95.gz\n",
        "! gunzip aulapython/NASA_access_log_Aug95.gz"
      ],
      "execution_count": 0,
      "outputs": []
    },
    {
      "cell_type": "code",
      "metadata": {
        "id": "YhycVjUH_2Jn",
        "colab_type": "code",
        "colab": {}
      },
      "source": [
        "from pyspark import SparkConf, SparkContext\n",
        "from operator import add"
      ],
      "execution_count": 0,
      "outputs": []
    },
    {
      "cell_type": "code",
      "metadata": {
        "id": "xkGm-m9-_2Jt",
        "colab_type": "code",
        "colab": {}
      },
      "source": [
        "configuracao = (SparkConf().setMaster(\"local\").setAppName(\"Solucao\")\n",
        "                .set(\"spark.executor.memory\", \"5g\"))"
      ],
      "execution_count": 0,
      "outputs": []
    },
    {
      "cell_type": "code",
      "metadata": {
        "id": "tV4WqN2m_2Jx",
        "colab_type": "code",
        "colab": {}
      },
      "source": [
        "sc = SparkContext(conf = configuracao)"
      ],
      "execution_count": 0,
      "outputs": []
    },
    {
      "cell_type": "code",
      "metadata": {
        "id": "CMwWh0R-_2J0",
        "colab_type": "code",
        "colab": {}
      },
      "source": [
        "julho = sc.textFile('aulapython/NASA_access_log_Jul95')\n",
        "agosto = sc.textFile('aulapython/NASA_access_log_Aug95')"
      ],
      "execution_count": 0,
      "outputs": []
    },
    {
      "cell_type": "code",
      "metadata": {
        "id": "xTiLV-Ci_2J4",
        "colab_type": "code",
        "colab": {}
      },
      "source": [
        "julho = julho.cache()\n",
        "agosto = agosto.cache()"
      ],
      "execution_count": 0,
      "outputs": []
    },
    {
      "cell_type": "code",
      "metadata": {
        "id": "RwRsj1l4_2J7",
        "colab_type": "code",
        "outputId": "a69bb76c-45b2-49c8-f049-3215be7026db",
        "colab": {
          "base_uri": "https://localhost:8080/",
          "height": 34
        }
      },
      "source": [
        "# Numero de hosts distintos no mes de Julho\n",
        "contagem_julho = julho.map(lambda line: line.split(' ')[0]).distinct().count()\n",
        "print(\"Numero de hosts distintos no mes de Julho:\", contagem_julho)"
      ],
      "execution_count": 10,
      "outputs": [
        {
          "output_type": "stream",
          "text": [
            "Numero de hosts distintos no mes de Julho: 81983\n"
          ],
          "name": "stdout"
        }
      ]
    },
    {
      "cell_type": "code",
      "metadata": {
        "id": "bUdYg4_w_2KA",
        "colab_type": "code",
        "outputId": "a362deee-88ab-4d78-e9a4-1e04a8c4ab72",
        "colab": {
          "base_uri": "https://localhost:8080/",
          "height": 34
        }
      },
      "source": [
        "# Numero de hosts distintos no mes de Agosto\n",
        "contagem_agosto = agosto.map(lambda line: line.split(' ')[0]).distinct().count()\n",
        "print(\"Numero de hosts distintos no mes de Agosto:\", contagem_agosto)"
      ],
      "execution_count": 11,
      "outputs": [
        {
          "output_type": "stream",
          "text": [
            "Numero de hosts distintos no mes de Agosto: 75060\n"
          ],
          "name": "stdout"
        }
      ]
    },
    {
      "cell_type": "code",
      "metadata": {
        "id": "P_TWXj75_2KD",
        "colab_type": "code",
        "colab": {}
      },
      "source": [
        "# Funcao para verificar se em uma linha existe um codigohttp igual a 404\n",
        "def codigo404(linha):\n",
        "    try:\n",
        "        codigohttp = linha.split(' ')[-2]\n",
        "        if codigohttp == '404':\n",
        "            return True\n",
        "    except:\n",
        "        pass\n",
        "    return False"
      ],
      "execution_count": 0,
      "outputs": []
    },
    {
      "cell_type": "code",
      "metadata": {
        "id": "UvyZPFMs_2KH",
        "colab_type": "code",
        "colab": {}
      },
      "source": [
        "erros404_julho = julho.filter(codigo404).cache()\n",
        "erros404_agosto = agosto.filter(lambda linha: linha.split(' ')[-2] == '404').cache()"
      ],
      "execution_count": 0,
      "outputs": []
    },
    {
      "cell_type": "code",
      "metadata": {
        "id": "CiKFJc8M_2KK",
        "colab_type": "code",
        "outputId": "74086b88-a37f-4618-eeb1-93776a3ded6c",
        "colab": {
          "base_uri": "https://localhost:8080/",
          "height": 34
        }
      },
      "source": [
        "print('Erros 404 em Julho: %s' % erros404_julho.count())"
      ],
      "execution_count": 14,
      "outputs": [
        {
          "output_type": "stream",
          "text": [
            "Erros 404 em Julho: 10845\n"
          ],
          "name": "stdout"
        }
      ]
    },
    {
      "cell_type": "code",
      "metadata": {
        "id": "dcYfxnAw_2KN",
        "colab_type": "code",
        "outputId": "2fb05970-2b4b-4d41-edc8-3a182fea1ea2",
        "colab": {
          "base_uri": "https://localhost:8080/",
          "height": 34
        }
      },
      "source": [
        "print('Erros 404 em Agosto: %s' % erros404_agosto.count())"
      ],
      "execution_count": 15,
      "outputs": [
        {
          "output_type": "stream",
          "text": [
            "Erros 404 em Agosto: 10056\n"
          ],
          "name": "stdout"
        }
      ]
    },
    {
      "cell_type": "code",
      "metadata": {
        "id": "tGIUjTWA_2KR",
        "colab_type": "code",
        "colab": {}
      },
      "source": [
        "# Funcao para retornar os top5 urls com mais erros 404\n",
        "def top5_hosts404(rdd):\n",
        "    hosts = rdd.map(lambda linha: linha.split('\"')[1].split(' ')[1])\n",
        "    counts = hosts.map(lambda hosts: (hosts, 1)).reduceByKey(add)\n",
        "    top5 = counts.sortBy(lambda par: -par[1]).take(5)\n",
        "    \n",
        "    print('\\nTop 5 urls:')\n",
        "    for hosts, count in top5:\n",
        "        print(hosts, count)\n",
        "        \n",
        "    return top5"
      ],
      "execution_count": 0,
      "outputs": []
    },
    {
      "cell_type": "code",
      "metadata": {
        "id": "jrBPH5fr_2KU",
        "colab_type": "code",
        "outputId": "c0f77b14-fd7d-4c3f-a8ed-e3e9c6afc76a",
        "colab": {
          "base_uri": "https://localhost:8080/",
          "height": 225
        }
      },
      "source": [
        "top5_hosts404(erros404_julho)"
      ],
      "execution_count": 17,
      "outputs": [
        {
          "output_type": "stream",
          "text": [
            "\n",
            "Top 5 urls:\n",
            "/pub/winvn/readme.txt 667\n",
            "/pub/winvn/release.txt 547\n",
            "/history/apollo/apollo-13.html 286\n",
            "/shuttle/resources/orbiters/atlantis.gif 232\n",
            "/history/apollo/a-001/a-001-patch-small.gif 230\n"
          ],
          "name": "stdout"
        },
        {
          "output_type": "execute_result",
          "data": {
            "text/plain": [
              "[('/pub/winvn/readme.txt', 667),\n",
              " ('/pub/winvn/release.txt', 547),\n",
              " ('/history/apollo/apollo-13.html', 286),\n",
              " ('/shuttle/resources/orbiters/atlantis.gif', 232),\n",
              " ('/history/apollo/a-001/a-001-patch-small.gif', 230)]"
            ]
          },
          "metadata": {
            "tags": []
          },
          "execution_count": 17
        }
      ]
    },
    {
      "cell_type": "code",
      "metadata": {
        "id": "9K4rAV3h_2KX",
        "colab_type": "code",
        "outputId": "c0f70359-5021-4c4c-bdf2-e1ef651ab30e",
        "colab": {
          "base_uri": "https://localhost:8080/",
          "height": 225
        }
      },
      "source": [
        "top5_hosts404(erros404_agosto)"
      ],
      "execution_count": 18,
      "outputs": [
        {
          "output_type": "stream",
          "text": [
            "\n",
            "Top 5 urls:\n",
            "/pub/winvn/readme.txt 1337\n",
            "/pub/winvn/release.txt 1185\n",
            "/shuttle/missions/STS-69/mission-STS-69.html 683\n",
            "/images/nasa-logo.gif 319\n",
            "/shuttle/missions/sts-68/ksc-upclose.gif 253\n"
          ],
          "name": "stdout"
        },
        {
          "output_type": "execute_result",
          "data": {
            "text/plain": [
              "[('/pub/winvn/readme.txt', 1337),\n",
              " ('/pub/winvn/release.txt', 1185),\n",
              " ('/shuttle/missions/STS-69/mission-STS-69.html', 683),\n",
              " ('/images/nasa-logo.gif', 319),\n",
              " ('/shuttle/missions/sts-68/ksc-upclose.gif', 253)]"
            ]
          },
          "metadata": {
            "tags": []
          },
          "execution_count": 18
        }
      ]
    },
    {
      "cell_type": "code",
      "metadata": {
        "id": "smzCW6c9_2Kb",
        "colab_type": "code",
        "colab": {}
      },
      "source": [
        "# Quantidade de erros 404 por dia\n",
        "def contador_dias_404(rdd):\n",
        "    dias = rdd.map(lambda linha: linha.split('[')[1].split(':')[0])\n",
        "    counts = dias.map(lambda dia: (dia, 1)).reduceByKey(add).collect()\n",
        "    return counts"
      ],
      "execution_count": 0,
      "outputs": []
    },
    {
      "cell_type": "code",
      "metadata": {
        "id": "Wd2GgD4k_2Ke",
        "colab_type": "code",
        "outputId": "3a1447e7-10f9-4c66-fb5c-e7097f12b021",
        "colab": {
          "base_uri": "https://localhost:8080/",
          "height": 503
        }
      },
      "source": [
        "contador_dias_404(erros404_julho)"
      ],
      "execution_count": 20,
      "outputs": [
        {
          "output_type": "execute_result",
          "data": {
            "text/plain": [
              "[('13/Jul/1995', 532),\n",
              " ('21/Jul/1995', 334),\n",
              " ('25/Jul/1995', 461),\n",
              " ('09/Jul/1995', 348),\n",
              " ('15/Jul/1995', 254),\n",
              " ('16/Jul/1995', 257),\n",
              " ('18/Jul/1995', 465),\n",
              " ('17/Jul/1995', 406),\n",
              " ('07/Jul/1995', 570),\n",
              " ('12/Jul/1995', 471),\n",
              " ('19/Jul/1995', 639),\n",
              " ('22/Jul/1995', 192),\n",
              " ('23/Jul/1995', 233),\n",
              " ('03/Jul/1995', 474),\n",
              " ('05/Jul/1995', 497),\n",
              " ('10/Jul/1995', 398),\n",
              " ('14/Jul/1995', 413),\n",
              " ('01/Jul/1995', 316),\n",
              " ('02/Jul/1995', 291),\n",
              " ('04/Jul/1995', 359),\n",
              " ('06/Jul/1995', 640),\n",
              " ('08/Jul/1995', 302),\n",
              " ('11/Jul/1995', 471),\n",
              " ('20/Jul/1995', 428),\n",
              " ('24/Jul/1995', 328),\n",
              " ('26/Jul/1995', 336),\n",
              " ('27/Jul/1995', 336),\n",
              " ('28/Jul/1995', 94)]"
            ]
          },
          "metadata": {
            "tags": []
          },
          "execution_count": 20
        }
      ]
    },
    {
      "cell_type": "code",
      "metadata": {
        "id": "PuPmKlSx_2Kh",
        "colab_type": "code",
        "outputId": "224ac963-7d3a-4d63-e17d-2ee4a83cc43d",
        "colab": {
          "base_uri": "https://localhost:8080/",
          "height": 538
        }
      },
      "source": [
        "contador_dias_404(erros404_agosto)"
      ],
      "execution_count": 21,
      "outputs": [
        {
          "output_type": "execute_result",
          "data": {
            "text/plain": [
              "[('01/Aug/1995', 243),\n",
              " ('07/Aug/1995', 537),\n",
              " ('09/Aug/1995', 279),\n",
              " ('10/Aug/1995', 315),\n",
              " ('21/Aug/1995', 305),\n",
              " ('27/Aug/1995', 370),\n",
              " ('30/Aug/1995', 571),\n",
              " ('03/Aug/1995', 304),\n",
              " ('06/Aug/1995', 373),\n",
              " ('08/Aug/1995', 391),\n",
              " ('16/Aug/1995', 259),\n",
              " ('20/Aug/1995', 312),\n",
              " ('05/Aug/1995', 236),\n",
              " ('11/Aug/1995', 263),\n",
              " ('12/Aug/1995', 196),\n",
              " ('13/Aug/1995', 216),\n",
              " ('15/Aug/1995', 327),\n",
              " ('17/Aug/1995', 271),\n",
              " ('22/Aug/1995', 288),\n",
              " ('23/Aug/1995', 345),\n",
              " ('24/Aug/1995', 420),\n",
              " ('26/Aug/1995', 366),\n",
              " ('28/Aug/1995', 410),\n",
              " ('14/Aug/1995', 287),\n",
              " ('18/Aug/1995', 256),\n",
              " ('19/Aug/1995', 209),\n",
              " ('31/Aug/1995', 526),\n",
              " ('04/Aug/1995', 346),\n",
              " ('25/Aug/1995', 415),\n",
              " ('29/Aug/1995', 420)]"
            ]
          },
          "metadata": {
            "tags": []
          },
          "execution_count": 21
        }
      ]
    },
    {
      "cell_type": "code",
      "metadata": {
        "id": "--vnX7zJ_2Kl",
        "colab_type": "code",
        "colab": {}
      },
      "source": [
        "# Quantidade de bytes acumulados \n",
        "def quantidade_bytes_acumulados(rdd):\n",
        "    def contador(linha):\n",
        "        try:\n",
        "            count = int(linha.split(\" \")[-1])\n",
        "            if count < 0:\n",
        "                raise ValueError()\n",
        "            return count\n",
        "        except:\n",
        "            return 0\n",
        "        \n",
        "    count = rdd.map(contador).reduce(add)\n",
        "    return count"
      ],
      "execution_count": 0,
      "outputs": []
    },
    {
      "cell_type": "code",
      "metadata": {
        "id": "1P-nABmJ_2Ko",
        "colab_type": "code",
        "outputId": "97cf09d6-842d-4044-d279-5b78c6fecbf2",
        "colab": {
          "base_uri": "https://localhost:8080/",
          "height": 34
        }
      },
      "source": [
        "print('Quantidade de bytes total em Julho: %s' % quantidade_bytes_acumulados(julho))"
      ],
      "execution_count": 23,
      "outputs": [
        {
          "output_type": "stream",
          "text": [
            "Quantidade de bytes total em Julho: 38695973491\n"
          ],
          "name": "stdout"
        }
      ]
    },
    {
      "cell_type": "code",
      "metadata": {
        "id": "U7pqpoPZ_2Kr",
        "colab_type": "code",
        "outputId": "0b2e4541-d64c-47e0-8708-045414c0581b",
        "colab": {
          "base_uri": "https://localhost:8080/",
          "height": 34
        }
      },
      "source": [
        "print('Quantidade de bytes total em Agosto: %s' % quantidade_bytes_acumulados(agosto))"
      ],
      "execution_count": 24,
      "outputs": [
        {
          "output_type": "stream",
          "text": [
            "Quantidade de bytes total em Agosto: 26828341424\n"
          ],
          "name": "stdout"
        }
      ]
    },
    {
      "cell_type": "code",
      "metadata": {
        "id": "imySXJev_2Kw",
        "colab_type": "code",
        "colab": {}
      },
      "source": [
        "sc.stop()"
      ],
      "execution_count": 0,
      "outputs": []
    }
  ]
}